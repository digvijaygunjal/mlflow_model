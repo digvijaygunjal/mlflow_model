{
 "cells": [
  {
   "cell_type": "code",
   "execution_count": 2,
   "metadata": {},
   "outputs": [
    {
     "name": "stderr",
     "output_type": "stream",
     "text": [
      "2023/01/13 09:38:56 INFO mlflow.recipes.recipe: Creating MLflow Recipe 'regression' with profile: 'local'\n"
     ]
    }
   ],
   "source": [
    "% pip install autogluon\n",
    "% pip install mlflow"
   ]
  },
  {
   "cell_type": "code",
   "execution_count": null,
   "outputs": [],
   "source": [
    "import mlflow\n",
    "from autogluon.tabular import TabularDataset, TabularPredictor\n",
    "from platform import python_version\n"
   ],
   "metadata": {
    "collapsed": false,
    "pycharm": {
     "name": "#%%\n"
    }
   }
  },
  {
   "cell_type": "code",
   "execution_count": null,
   "outputs": [],
   "source": [
    "class AutogluonModel(mlflow.pyfunc.PythonModel):\n",
    "    def load_context(self, context):\n",
    "        self.predictor = TabularPredictor.load(context.artifacts.get(\"predictor_path\"))\n",
    "\n",
    "    def predict(self, context, model_input):\n",
    "        return self.predictor.predict(model_input)\n"
   ],
   "metadata": {
    "collapsed": false,
    "pycharm": {
     "name": "#%%\n"
    }
   }
  },
  {
   "cell_type": "code",
   "execution_count": null,
   "outputs": [],
   "source": [
    "def log_model():\n",
    "    model = AutogluonModel()\n",
    "    predictor_path = predictor.path + \"models/\" + predictor.get_model_best()\n",
    "    artifacts = {\"predictor_path\": predictor_path}\n",
    "    conda_env = {\n",
    "        \"channels\": [\"conda-forge\"],\n",
    "        \"dependencies\": [f\"python={python_version()}\", \"pip\"],\n",
    "        \"pip\": [f\"mlflow=={mlflow.__version__}\", f'cloudpickle==\"2.2.0\"'],\n",
    "        \"name\": \"mlflow-env\",\n",
    "    }\n",
    "    mlflow.pyfunc.log_model(\n",
    "        artifact_path=\"model\",\n",
    "        python_model=model,\n",
    "        artifacts=artifacts,\n",
    "        conda_env=conda_env,\n",
    "    )\n"
   ],
   "metadata": {
    "collapsed": false,
    "pycharm": {
     "name": "#%%\n"
    }
   }
  },
  {
   "cell_type": "code",
   "execution_count": null,
   "outputs": [],
   "source": [
    "def run_experiments(predictor):\n",
    "    for i, model_name in enumerate(list(predictor.leaderboard(silent=True)[\"model\"])):\n",
    "        with mlflow.start_run(run_name=model_name):\n",
    "            if i == 0:\n",
    "                log_model()\n",
    "            info = predictor.info()[\"model_info\"][model_name]\n",
    "            score = info[\"val_score\"]\n",
    "            model_type = info[\"model_type\"]\n",
    "            hyper_params = info[\"hyperparameters\"]\n",
    "            hyper_params[\"model_type\"] = model_type\n",
    "            mlflow.log_params(hyper_params)\n",
    "            mlflow.log_metric(\"acc\", score)\n"
   ],
   "metadata": {
    "collapsed": false,
    "pycharm": {
     "name": "#%%\n"
    }
   }
  },
  {
   "cell_type": "code",
   "execution_count": null,
   "outputs": [],
   "source": [
    "def create_autogluon_experiment(train_df):\n",
    "    predictor = TabularPredictor(label=\"to_predict\", eval_metric=\"accuracy\").fit(\n",
    "        train_data=train_df, verbosity=2, presets=\"medium_quality\"\n",
    "    )\n",
    "    return predictor\n"
   ],
   "metadata": {
    "collapsed": false,
    "pycharm": {
     "name": "#%%\n"
    }
   }
  },
  {
   "cell_type": "code",
   "execution_count": null,
   "outputs": [],
   "source": [
    "predictor = create_autogluon_experiment(train_data)\n",
    "\n",
    "run_experiments(predictor)\n",
    "\n",
    "predictor.leaderboard()"
   ],
   "metadata": {
    "collapsed": false,
    "pycharm": {
     "name": "#%%\n"
    }
   }
  },
  {
   "cell_type": "code",
   "execution_count": null,
   "outputs": [],
   "source": [],
   "metadata": {
    "collapsed": false,
    "pycharm": {
     "name": "#%%\n"
    }
   }
  }
 ],
 "metadata": {
  "application/vnd.databricks.v1+notebook": {
   "dashboards": [],
   "language": "python",
   "notebookMetadata": {
    "pythonIndentUnit": 4
   },
   "notebookName": "demo",
   "notebookOrigID": 4287560635394298,
   "widgets": {}
  },
  "kernelspec": {
   "display_name": "webinar",
   "language": "python",
   "name": "webinar"
  },
  "language_info": {
   "codemirror_mode": {
    "name": "ipython",
    "version": 3
   },
   "file_extension": ".py",
   "mimetype": "text/x-python",
   "name": "python",
   "nbconvert_exporter": "python",
   "pygments_lexer": "ipython3",
   "version": "3.9.15"
  }
 },
 "nbformat": 4,
 "nbformat_minor": 4
}